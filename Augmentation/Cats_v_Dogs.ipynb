{
 "cells": [
  {
   "cell_type": "code",
   "execution_count": 1,
   "metadata": {
    "id": "dn-6c02VmqiN"
   },
   "outputs": [],
   "source": [
    "import os\n",
    "import random\n",
    "import tensorflow as tf\n",
    "from tensorflow.keras.optimizers import RMSprop\n",
    "from tensorflow.keras.preprocessing.image import ImageDataGenerator\n",
    "import tensorflow_hub as hub\n",
    "import IPython.display as display\n",
    "import matplotlib.pyplot as plt\n",
    "import matplotlib as mpl\n",
    "import numpy as np\n",
    "import PIL.Image\n",
    "import time\n",
    "import functools\n",
    "import cv2\n",
    "from sklearn.metrics import roc_curve, auc\n",
    "from tensorflow.keras.callbacks import EarlyStopping, ModelCheckpoint, ReduceLROnPlateau\n",
    "from shutil import copyfile\n",
    "hub_model = hub.load('https://tfhub.dev/google/magenta/arbitrary-image-stylization-v1-256/2')\n",
    "mpl.rcParams['figure.figsize'] = (12, 12)\n",
    "mpl.rcParams['axes.grid'] = False\n",
    "os.environ['TFHUB_MODEL_LOAD_FORMAT'] = 'COMPRESSED'\n",
    "def setseed(seed_value):\n",
    "    os.environ['PYTHONHASHSEED']=str(seed_value)\n",
    "    random.seed(seed_value)\n",
    "    np.random.seed(seed_value)\n",
    "    tf.random.set_seed(seed_value)"
   ]
  },
  {
   "cell_type": "code",
   "execution_count": 2,
   "metadata": {
    "jupyter": {
     "source_hidden": true
    },
    "tags": []
   },
   "outputs": [],
   "source": [
    "def tensor_to_image(tensor):\n",
    "    tensor = tensor*255\n",
    "    tensor = np.array(tensor, dtype=np.uint8)\n",
    "    if np.ndim(tensor)>3:\n",
    "        assert tensor.shape[0] == 1\n",
    "        tensor = tensor[0]\n",
    "    return PIL.Image.fromarray(tensor)\n",
    "\n",
    "def load_img(path_to_img):\n",
    "    max_dim = 224\n",
    "    img = tf.io.read_file(path_to_img)\n",
    "    img = tf.image.decode_image(img, channels=3)\n",
    "    img = tf.image.convert_image_dtype(img, tf.float32)\n",
    "\n",
    "    shape = tf.cast(tf.shape(img)[:-1], tf.float32)\n",
    "    long_dim = max(shape)\n",
    "    scale = max_dim / long_dim\n",
    "\n",
    "    new_shape = tf.cast(shape * scale, tf.int32)\n",
    "    img = tf.image.resize(img, new_shape)\n",
    "    img = img[tf.newaxis, :]\n",
    "    return img\n",
    "\n",
    "def imshow(image, title=None):\n",
    "    if len(image.shape) > 3:\n",
    "        image = tf.squeeze(image, axis=0)\n",
    "\n",
    "    plt.imshow(image)\n",
    "    if title:\n",
    "        plt.title(title)\n",
    "        \n",
    "def tensor_save_rgbimage(tensor, filename, cuda=False):\n",
    "    img = tensor.clone().clamp(0, 255).numpy()\n",
    "    img = img.transpose(1, 2, 0).astype('uint8')\n",
    "    img = Image.fromarray(img)\n",
    "    img.save(filename)"
   ]
  },
  {
   "cell_type": "code",
   "execution_count": 3,
   "metadata": {},
   "outputs": [],
   "source": [
    "import zipfile\n",
    "with zipfile.ZipFile('./PetImages.zip', 'r') as zip_ref:\n",
    "    zip_ref.extractall('./tmp')"
   ]
  },
  {
   "cell_type": "code",
   "execution_count": 4,
   "metadata": {
    "colab": {
     "base_uri": "https://localhost:8080/",
     "height": 52
    },
    "id": "DM851ZmN28J3",
    "outputId": "228c28ed-89a4-4a78-c357-144694e3a8e3"
   },
   "outputs": [
    {
     "name": "stdout",
     "output_type": "stream",
     "text": [
      "4500\n",
      "4500\n"
     ]
    }
   ],
   "source": [
    "print(len(os.listdir('./tmp/PetImages/Cat/')))\n",
    "print(len(os.listdir('./tmp/PetImages/Dog/')))"
   ]
  },
  {
   "cell_type": "code",
   "execution_count": 5,
   "metadata": {
    "id": "F-QkLjxpmyK2"
   },
   "outputs": [],
   "source": [
    "try:\n",
    "    os.mkdir('./tmp/normal')\n",
    "    os.mkdir('./tmp/normal/training')\n",
    "    os.mkdir('./tmp/normal/testing')\n",
    "    os.mkdir('./tmp/normal/training/cats')\n",
    "    os.mkdir('./tmp/normal/training/dogs')\n",
    "    os.mkdir('./tmp/normal/testing/cats')\n",
    "    os.mkdir('./tmp/normal/testing/dogs')\n",
    "except OSError:\n",
    "    pass\n",
    "\n",
    "try:\n",
    "    os.mkdir('./tmp/normal+s1/')\n",
    "    os.mkdir('./tmp/normal+s1/training')\n",
    "    os.mkdir('./tmp/normal+s1/testing')\n",
    "    os.mkdir('./tmp/normal+s1/training/cats')\n",
    "    os.mkdir('./tmp/normal+s1/training/dogs')\n",
    "    os.mkdir('./tmp/normal+s1/testing/cats')\n",
    "    os.mkdir('./tmp/normal+s1/testing/dogs')\n",
    "except OSError:\n",
    "    pass"
   ]
  },
  {
   "cell_type": "code",
   "execution_count": 6,
   "metadata": {},
   "outputs": [],
   "source": [
    "stylelist = []\n",
    "for filename in os.listdir(\"./style\"):\n",
    "    if filename[0]=='.':\n",
    "        continue\n",
    "    stylelist.append(load_img('style/'+filename))"
   ]
  },
  {
   "cell_type": "code",
   "execution_count": 7,
   "metadata": {
    "colab": {
     "base_uri": "https://localhost:8080/",
     "height": 52
    },
    "id": "zvSODo0f9LaU",
    "outputId": "dc4e8d2f-466f-438f-cac8-4f4b3e548989"
   },
   "outputs": [],
   "source": [
    "def split_data(SOURCE, TRAINING, TESTING, SPLIT_SIZE,style = False):\n",
    "    files = []\n",
    "    for filename in os.listdir(SOURCE):\n",
    "        file = SOURCE + filename\n",
    "        if os.path.getsize(file) > 0:\n",
    "            files.append(filename)\n",
    "        else:\n",
    "            print(filename + \" is zero length, so ignoring.\")\n",
    "\n",
    "    training_length = int(len(files) * SPLIT_SIZE)\n",
    "    testing_length = int(len(files) - training_length)\n",
    "    shuffled_set = random.sample(files, len(files))\n",
    "    training_set = shuffled_set[0:training_length]\n",
    "    testing_set = shuffled_set[-testing_length:]\n",
    "\n",
    "    for filename in training_set:\n",
    "        this_file = SOURCE + filename\n",
    "        destination = TRAINING + filename\n",
    "        if not style or np.random.randint(0,4)!=0:\n",
    "            copyfile(this_file, destination)\n",
    "        else:\n",
    "            try:\n",
    "                content_image = load_img(this_file)\n",
    "                content_style = stylelist[np.random.randint(0,7)]\n",
    "                styleimg = hub_model(tf.constant(content_image), tf.constant(content_style))[0]\n",
    "                cv2.imwrite(destination, np.array(styleimg[0])[:,:,::-1]*255)\n",
    "            except: \n",
    "                print(this_file)\n",
    "\n",
    "    for filename in testing_set:\n",
    "        this_file = SOURCE + filename\n",
    "        destination = TESTING + filename\n",
    "        if not style or np.random.randint(0,4)!=0:\n",
    "            copyfile(this_file, destination)\n",
    "        else:\n",
    "            try:\n",
    "                content_image = load_img(this_file)\n",
    "                content_style = stylelist[np.random.randint(7,10)]\n",
    "                styleimg = hub_model(tf.constant(content_image), tf.constant(content_style))[0]\n",
    "                cv2.imwrite(destination, np.array(styleimg[0])[:,:,::-1]*255)\n",
    "            except: \n",
    "                print(this_file)\n",
    "\n",
    "CAT_SOURCE_DIR = \"./tmp/PetImages/Cat/\"\n",
    "TRAINING_CATS_DIR = \"./tmp/normal/training/cats/\"\n",
    "TESTING_CATS_DIR = \"./tmp/normal/testing/cats/\"\n",
    "DOG_SOURCE_DIR = \"./tmp/PetImages/Dog/\"\n",
    "TRAINING_DOGS_DIR = \"./tmp/normal/training/dogs/\"\n",
    "TESTING_DOGS_DIR = \"./tmp/normal/testing/dogs/\"\n",
    "\n",
    "S_TRAINING_CATS_DIR = \"./tmp/normal+s1/training/cats/\"\n",
    "S_TESTING_CATS_DIR = \"./tmp/normal+s1/testing/cats/\"\n",
    "S_TRAINING_DOGS_DIR = \"./tmp/normal+s1/training/dogs/\"\n",
    "S_TESTING_DOGS_DIR = \"./tmp/normal+s1/testing/dogs/\""
   ]
  },
  {
   "cell_type": "code",
   "execution_count": 8,
   "metadata": {},
   "outputs": [],
   "source": [
    "# split_size = .8\n",
    "# split_data(CAT_SOURCE_DIR, TRAINING_CATS_DIR, TESTING_CATS_DIR, split_size)\n",
    "# split_data(DOG_SOURCE_DIR, TRAINING_DOGS_DIR, TESTING_DOGS_DIR, split_size)\n",
    "# split_data(CAT_SOURCE_DIR, S_TRAINING_CATS_DIR, S_TESTING_CATS_DIR, split_size,style = True)\n",
    "# split_data(DOG_SOURCE_DIR, S_TRAINING_DOGS_DIR, S_TESTING_DOGS_DIR, split_size,style = True)"
   ]
  },
  {
   "cell_type": "code",
   "execution_count": 9,
   "metadata": {
    "colab": {
     "base_uri": "https://localhost:8080/",
     "height": 87
    },
    "id": "hwHXFhVG3786",
    "outputId": "a3d742be-7365-4787-97a9-2599e688b222"
   },
   "outputs": [
    {
     "name": "stdout",
     "output_type": "stream",
     "text": [
      "3600\n",
      "3600\n",
      "900\n",
      "900\n",
      "3598\n",
      "3597\n",
      "899\n",
      "899\n"
     ]
    }
   ],
   "source": [
    "print(len(os.listdir('./tmp/normal/training/cats/')))\n",
    "print(len(os.listdir('./tmp/normal/training/dogs/')))\n",
    "print(len(os.listdir('./tmp/normal/testing/cats/')))\n",
    "print(len(os.listdir('./tmp/normal/testing/dogs/')))\n",
    "print(len(os.listdir('./tmp/normal+s1/training/cats/')))\n",
    "print(len(os.listdir('./tmp/normal+s1/training/dogs/')))\n",
    "print(len(os.listdir('./tmp/normal+s1/testing/cats/')))\n",
    "print(len(os.listdir('./tmp/normal+s1/testing/dogs/')))"
   ]
  },
  {
   "cell_type": "code",
   "execution_count": 10,
   "metadata": {
    "id": "-BQrav4anTmj"
   },
   "outputs": [],
   "source": [
    "setseed(42)\n",
    "model = tf.keras.models.Sequential([\n",
    "    tf.keras.layers.Conv2D(16, (3, 3), activation='relu', input_shape=(150, 150, 3)),\n",
    "    tf.keras.layers.MaxPooling2D(2, 2),\n",
    "    tf.keras.layers.Conv2D(32, (3, 3), activation='relu'),\n",
    "    tf.keras.layers.MaxPooling2D(2, 2),\n",
    "    tf.keras.layers.Conv2D(64, (3, 3), activation='relu'),\n",
    "    tf.keras.layers.MaxPooling2D(2, 2),\n",
    "    tf.keras.layers.Flatten(),\n",
    "    tf.keras.layers.Dense(512, activation='relu'),\n",
    "    tf.keras.layers.Dense(1, activation='sigmoid')\n",
    "])"
   ]
  },
  {
   "cell_type": "code",
   "execution_count": 11,
   "metadata": {
    "id": "fQrZfVgz4j2g"
   },
   "outputs": [
    {
     "name": "stdout",
     "output_type": "stream",
     "text": [
      "Found 5760 images belonging to 2 classes.\n",
      "Found 1440 images belonging to 2 classes.\n",
      "Found 1800 images belonging to 2 classes.\n",
      "Found 5757 images belonging to 2 classes.\n",
      "Found 1438 images belonging to 2 classes.\n",
      "Found 1798 images belonging to 2 classes.\n"
     ]
    }
   ],
   "source": [
    "setseed(42)\n",
    "TRAINING_DIR = \"./tmp/normal/training/\"\n",
    "train_datagen = ImageDataGenerator(rescale=1.0/255.,validation_split=0.2)\n",
    "train_generator = train_datagen.flow_from_directory(TRAINING_DIR,\n",
    "                                                    batch_size=250,\n",
    "                                                    class_mode='binary',\n",
    "                                                    target_size=(150, 150),\n",
    "                                                    subset='training'\n",
    "                                                    )\n",
    "valid_generator = train_datagen.flow_from_directory(TRAINING_DIR,\n",
    "                                                    batch_size=250,\n",
    "                                                    class_mode='binary',\n",
    "                                                    target_size=(150, 150),\n",
    "                                                    subset='validation'\n",
    "                                                    )\n",
    "\n",
    "TESTING_DIR = \"./tmp/normal/testing/\"\n",
    "test_datagen = ImageDataGenerator(rescale=1.0/255.)\n",
    "test_generator = test_datagen.flow_from_directory(TESTING_DIR,\n",
    "                                                              batch_size=250,\n",
    "                                                              class_mode='binary',\n",
    "                                                              target_size=(150, 150),\n",
    "                                                              )\n",
    "\n",
    "####################################################\n",
    "TRAINING_DIR_S1= \"./tmp/normal+s1/training/\"\n",
    "train_datagen_S1 = ImageDataGenerator(rescale=1.0/255.,validation_split=0.2)\n",
    "train_generator_S1 = train_datagen_S1.flow_from_directory(TRAINING_DIR_S1,\n",
    "                                                    batch_size=250,\n",
    "                                                    class_mode='binary',\n",
    "                                                    target_size=(150, 150),\n",
    "                                                    subset='training'\n",
    "                                                    )\n",
    "valid_generator_S1 = train_datagen_S1.flow_from_directory(TRAINING_DIR_S1,\n",
    "                                                    batch_size=250,\n",
    "                                                    class_mode='binary',\n",
    "                                                    target_size=(150, 150),\n",
    "                                                    subset='validation'\n",
    "                                                    )\n",
    "\n",
    "TESTING_DIR_S1 = \"./tmp/normal+s1/testing/\"\n",
    "test_datagen_S1 = ImageDataGenerator(rescale=1.0/255.)\n",
    "test_generator_S1 = test_datagen_S1.flow_from_directory(TESTING_DIR_S1,\n",
    "                                                              batch_size=250,\n",
    "                                                              class_mode='binary',\n",
    "                                                              target_size=(150, 150),\n",
    "                                                              )"
   ]
  },
  {
   "cell_type": "code",
   "execution_count": 12,
   "metadata": {},
   "outputs": [],
   "source": [
    "model1 = tf.keras.models.clone_model(model)\n",
    "model1.load_weights('normal.h5')\n",
    "save1 = np.load('history1.npy',allow_pickle='TRUE').item()\n",
    "model2 = tf.keras.models.clone_model(model)\n",
    "model2.load_weights('normal+s1.h5')\n",
    "save2 = np.load('history2.npy',allow_pickle='TRUE').item()"
   ]
  },
  {
   "cell_type": "code",
   "execution_count": 13,
   "metadata": {
    "id": "5qE1G6JB4fMn"
   },
   "outputs": [
    {
     "name": "stdout",
     "output_type": "stream",
     "text": [
      "Epoch 1/15\n",
      "24/24 [==============================] - ETA: 0s - loss: 0.9568 - acc: 0.5137\n",
      "Epoch 00001: val_loss improved from inf to 0.69852, saving model to normal.h5\n",
      "24/24 [==============================] - 98s 4s/step - loss: 0.9568 - acc: 0.5137 - val_loss: 0.6985 - val_acc: 0.5181 - lr: 0.0010\n",
      "Epoch 2/15\n",
      "24/24 [==============================] - ETA: 0s - loss: 0.6830 - acc: 0.5804\n",
      "Epoch 00002: val_loss improved from 0.69852 to 0.65030, saving model to normal.h5\n",
      "24/24 [==============================] - 89s 4s/step - loss: 0.6830 - acc: 0.5804 - val_loss: 0.6503 - val_acc: 0.6993 - lr: 0.0010\n",
      "Epoch 3/15\n",
      "24/24 [==============================] - ETA: 0s - loss: 0.6786 - acc: 0.6217\n",
      "Epoch 00003: val_loss did not improve from 0.65030\n",
      "24/24 [==============================] - 86s 4s/step - loss: 0.6786 - acc: 0.6217 - val_loss: 0.6510 - val_acc: 0.6889 - lr: 0.0010\n",
      "Epoch 4/15\n",
      "24/24 [==============================] - ETA: 0s - loss: 0.6622 - acc: 0.6380\n",
      "Epoch 00004: val_loss improved from 0.65030 to 0.61234, saving model to normal.h5\n",
      "24/24 [==============================] - 80s 3s/step - loss: 0.6622 - acc: 0.6380 - val_loss: 0.6123 - val_acc: 0.6903 - lr: 0.0010\n",
      "Epoch 5/15\n",
      "24/24 [==============================] - ETA: 0s - loss: 0.6188 - acc: 0.6717\n",
      "Epoch 00005: val_loss did not improve from 0.61234\n",
      "24/24 [==============================] - 74s 3s/step - loss: 0.6188 - acc: 0.6717 - val_loss: 0.6171 - val_acc: 0.6542 - lr: 0.0010\n",
      "Epoch 6/15\n",
      "24/24 [==============================] - ETA: 0s - loss: 0.5787 - acc: 0.6958\n",
      "Epoch 00006: val_loss did not improve from 0.61234\n",
      "24/24 [==============================] - 83s 4s/step - loss: 0.5787 - acc: 0.6958 - val_loss: 0.8374 - val_acc: 0.5410 - lr: 0.0010\n",
      "Epoch 7/15\n",
      "24/24 [==============================] - ETA: 0s - loss: 0.5877 - acc: 0.6872\n",
      "Epoch 00007: val_loss improved from 0.61234 to 0.57529, saving model to normal.h5\n",
      "24/24 [==============================] - 86s 4s/step - loss: 0.5877 - acc: 0.6872 - val_loss: 0.5753 - val_acc: 0.7028 - lr: 0.0010\n",
      "Epoch 8/15\n",
      "24/24 [==============================] - ETA: 0s - loss: 0.5322 - acc: 0.7339\n",
      "Epoch 00008: val_loss improved from 0.57529 to 0.54518, saving model to normal.h5\n",
      "24/24 [==============================] - 91s 4s/step - loss: 0.5322 - acc: 0.7339 - val_loss: 0.5452 - val_acc: 0.7451 - lr: 0.0010\n",
      "Epoch 9/15\n",
      "24/24 [==============================] - ETA: 0s - loss: 0.5203 - acc: 0.7441\n",
      "Epoch 00009: val_loss did not improve from 0.54518\n",
      "24/24 [==============================] - 88s 4s/step - loss: 0.5203 - acc: 0.7441 - val_loss: 0.6396 - val_acc: 0.6875 - lr: 0.0010\n",
      "Epoch 10/15\n",
      "24/24 [==============================] - ETA: 0s - loss: 0.5181 - acc: 0.7389\n",
      "Epoch 00010: val_loss did not improve from 0.54518\n",
      "24/24 [==============================] - 88s 4s/step - loss: 0.5181 - acc: 0.7389 - val_loss: 0.5479 - val_acc: 0.7375 - lr: 0.0010\n",
      "Epoch 11/15\n",
      "24/24 [==============================] - ETA: 0s - loss: 0.4771 - acc: 0.7646\n",
      "Epoch 00011: val_loss did not improve from 0.54518\n",
      "24/24 [==============================] - 92s 4s/step - loss: 0.4771 - acc: 0.7646 - val_loss: 0.5479 - val_acc: 0.7271 - lr: 0.0010\n",
      "Epoch 12/15\n",
      "24/24 [==============================] - ETA: 0s - loss: 0.3765 - acc: 0.8380\n",
      "Epoch 00012: val_loss improved from 0.54518 to 0.50479, saving model to normal.h5\n",
      "24/24 [==============================] - 87s 4s/step - loss: 0.3765 - acc: 0.8380 - val_loss: 0.5048 - val_acc: 0.7611 - lr: 2.0000e-04\n",
      "Epoch 13/15\n",
      "24/24 [==============================] - ETA: 0s - loss: 0.3443 - acc: 0.8514\n",
      "Epoch 00013: val_loss improved from 0.50479 to 0.50222, saving model to normal.h5\n",
      "24/24 [==============================] - 81s 3s/step - loss: 0.3443 - acc: 0.8514 - val_loss: 0.5022 - val_acc: 0.7681 - lr: 2.0000e-04\n",
      "Epoch 14/15\n",
      "24/24 [==============================] - ETA: 0s - loss: 0.3239 - acc: 0.8681\n",
      "Epoch 00014: val_loss improved from 0.50222 to 0.49927, saving model to normal.h5\n",
      "24/24 [==============================] - 86s 4s/step - loss: 0.3239 - acc: 0.8681 - val_loss: 0.4993 - val_acc: 0.7660 - lr: 2.0000e-04\n",
      "Epoch 15/15\n",
      "24/24 [==============================] - ETA: 0s - loss: 0.3046 - acc: 0.8764\n",
      "Epoch 00015: val_loss did not improve from 0.49927\n",
      "24/24 [==============================] - 93s 4s/step - loss: 0.3046 - acc: 0.8764 - val_loss: 0.5292 - val_acc: 0.7576 - lr: 2.0000e-04\n"
     ]
    }
   ],
   "source": [
    "setseed(42)\n",
    "model1 = tf.keras.models.clone_model(model)\n",
    "model1.compile(optimizer=RMSprop(learning_rate=0.001), loss='binary_crossentropy', metrics=['acc'])\n",
    "checkpointer = tf.keras.callbacks.ModelCheckpoint('normal.h5',monitor='val_loss', verbose=1, save_best_only=True)\n",
    "callbacks = [\n",
    "    ReduceLROnPlateau(monitor='val_loss', factor=0.2, patience=3),\n",
    "    tf.keras.callbacks.EarlyStopping(monitor='val_loss', patience=5, restore_best_weights=False),\n",
    "    checkpointer]\n",
    "history1 = model1.fit(train_generator, epochs=15,validation_data=valid_generator ,callbacks=callbacks)\n",
    "save1 = history1.history\n",
    "np.save('history1.npy',save1)"
   ]
  },
  {
   "cell_type": "code",
   "execution_count": 14,
   "metadata": {},
   "outputs": [
    {
     "name": "stdout",
     "output_type": "stream",
     "text": [
      "Epoch 1/15\n",
      "24/24 [==============================] - ETA: 0s - loss: 0.9990 - acc: 0.5242\n",
      "Epoch 00001: val_loss improved from inf to 0.68654, saving model to normal+s1.h5\n",
      "24/24 [==============================] - 90s 4s/step - loss: 0.9990 - acc: 0.5242 - val_loss: 0.6865 - val_acc: 0.5146 - lr: 0.0010\n",
      "Epoch 2/15\n",
      "24/24 [==============================] - ETA: 0s - loss: 0.6897 - acc: 0.5718\n",
      "Epoch 00002: val_loss improved from 0.68654 to 0.67335, saving model to normal+s1.h5\n",
      "24/24 [==============================] - 86s 4s/step - loss: 0.6897 - acc: 0.5718 - val_loss: 0.6733 - val_acc: 0.6314 - lr: 0.0010\n",
      "Epoch 3/15\n",
      "24/24 [==============================] - ETA: 0s - loss: 0.6658 - acc: 0.6153\n",
      "Epoch 00003: val_loss improved from 0.67335 to 0.64702, saving model to normal+s1.h5\n",
      "24/24 [==============================] - 86s 4s/step - loss: 0.6658 - acc: 0.6153 - val_loss: 0.6470 - val_acc: 0.6572 - lr: 0.0010\n",
      "Epoch 4/15\n",
      "24/24 [==============================] - ETA: 0s - loss: 0.6650 - acc: 0.6120\n",
      "Epoch 00004: val_loss improved from 0.64702 to 0.63090, saving model to normal+s1.h5\n",
      "24/24 [==============================] - 83s 3s/step - loss: 0.6650 - acc: 0.6120 - val_loss: 0.6309 - val_acc: 0.6349 - lr: 0.0010\n",
      "Epoch 5/15\n",
      "24/24 [==============================] - ETA: 0s - loss: 0.6354 - acc: 0.6496\n",
      "Epoch 00005: val_loss did not improve from 0.63090\n",
      "24/24 [==============================] - 90s 4s/step - loss: 0.6354 - acc: 0.6496 - val_loss: 0.7119 - val_acc: 0.5765 - lr: 0.0010\n",
      "Epoch 6/15\n",
      "24/24 [==============================] - ETA: 0s - loss: 0.6526 - acc: 0.6856\n",
      "Epoch 00006: val_loss improved from 0.63090 to 0.59413, saving model to normal+s1.h5\n",
      "24/24 [==============================] - 82s 4s/step - loss: 0.6526 - acc: 0.6856 - val_loss: 0.5941 - val_acc: 0.6662 - lr: 0.0010\n",
      "Epoch 7/15\n",
      "24/24 [==============================] - ETA: 0s - loss: 0.5871 - acc: 0.6896\n",
      "Epoch 00007: val_loss did not improve from 0.59413\n",
      "24/24 [==============================] - 79s 3s/step - loss: 0.5871 - acc: 0.6896 - val_loss: 0.6352 - val_acc: 0.6391 - lr: 0.0010\n",
      "Epoch 8/15\n",
      "24/24 [==============================] - ETA: 0s - loss: 0.5593 - acc: 0.7170\n",
      "Epoch 00008: val_loss did not improve from 0.59413\n",
      "24/24 [==============================] - 79s 3s/step - loss: 0.5593 - acc: 0.7170 - val_loss: 0.6068 - val_acc: 0.6662 - lr: 0.0010\n",
      "Epoch 9/15\n",
      "24/24 [==============================] - ETA: 0s - loss: 0.5424 - acc: 0.7280\n",
      "Epoch 00009: val_loss improved from 0.59413 to 0.56674, saving model to normal+s1.h5\n",
      "24/24 [==============================] - 95s 4s/step - loss: 0.5424 - acc: 0.7280 - val_loss: 0.5667 - val_acc: 0.6961 - lr: 0.0010\n",
      "Epoch 10/15\n",
      "24/24 [==============================] - ETA: 0s - loss: 0.5162 - acc: 0.7495\n",
      "Epoch 00010: val_loss did not improve from 0.56674\n",
      "24/24 [==============================] - 86s 4s/step - loss: 0.5162 - acc: 0.7495 - val_loss: 0.5749 - val_acc: 0.6919 - lr: 0.0010\n",
      "Epoch 11/15\n",
      "24/24 [==============================] - ETA: 0s - loss: 0.4881 - acc: 0.7559\n",
      "Epoch 00011: val_loss did not improve from 0.56674\n",
      "24/24 [==============================] - 82s 3s/step - loss: 0.4881 - acc: 0.7559 - val_loss: 0.5726 - val_acc: 0.7100 - lr: 0.0010\n",
      "Epoch 12/15\n",
      "24/24 [==============================] - ETA: 0s - loss: 0.5518 - acc: 0.7700\n",
      "Epoch 00012: val_loss did not improve from 0.56674\n",
      "24/24 [==============================] - 81s 3s/step - loss: 0.5518 - acc: 0.7700 - val_loss: 0.5681 - val_acc: 0.7100 - lr: 0.0010\n",
      "Epoch 13/15\n",
      "24/24 [==============================] - ETA: 0s - loss: 0.3581 - acc: 0.8451\n",
      "Epoch 00013: val_loss did not improve from 0.56674\n",
      "24/24 [==============================] - 81s 3s/step - loss: 0.3581 - acc: 0.8451 - val_loss: 0.5694 - val_acc: 0.7288 - lr: 2.0000e-04\n",
      "Epoch 14/15\n",
      "24/24 [==============================] - ETA: 0s - loss: 0.3227 - acc: 0.8610\n",
      "Epoch 00014: val_loss did not improve from 0.56674\n",
      "24/24 [==============================] - 80s 3s/step - loss: 0.3227 - acc: 0.8610 - val_loss: 0.5939 - val_acc: 0.7295 - lr: 2.0000e-04\n"
     ]
    }
   ],
   "source": [
    "setseed(42)\n",
    "model2 = tf.keras.models.clone_model(model)\n",
    "model2.compile(optimizer=RMSprop(learning_rate=0.001), loss='binary_crossentropy', metrics=['acc'])\n",
    "checkpointer = tf.keras.callbacks.ModelCheckpoint('normal+s1.h5',monitor='val_loss', verbose=1, save_best_only=True)\n",
    "callbacks = [\n",
    "    ReduceLROnPlateau(monitor='val_loss', factor=0.2, patience=3),\n",
    "    tf.keras.callbacks.EarlyStopping(monitor='val_loss', patience=5, restore_best_weights=False),\n",
    "    checkpointer]\n",
    "history2 = model2.fit(train_generator_S1, epochs=15,validation_data=valid_generator_S1 ,callbacks=callbacks)\n",
    "save2 = history2.history\n",
    "np.save('history2.npy',save2)"
   ]
  },
  {
   "cell_type": "code",
   "execution_count": 15,
   "metadata": {},
   "outputs": [
    {
     "name": "stdout",
     "output_type": "stream",
     "text": [
      "8/8 [==============================] - 12s 1s/step - loss: 0.5413 - acc: 0.7489\n",
      "normal trained model with normal test data acc: 0.7488889098167419\n",
      "8/8 [==============================] - 10s 1s/step - loss: 0.4114 - acc: 0.8133\n",
      "with some style trained model with normal test data acc: 0.8133333325386047\n",
      "8/8 [==============================] - 11s 1s/step - loss: 0.4815 - acc: 0.7803\n",
      "normal trained model with some style test data acc: 0.7803114652633667\n",
      "8/8 [==============================] - 9s 1s/step - loss: 0.6008 - acc: 0.7186\n",
      "with some style trained model with some style test data acc: 0.718576192855835\n"
     ]
    }
   ],
   "source": [
    "setseed(42)\n",
    "model1.compile(optimizer=RMSprop(learning_rate=0.001), loss='binary_crossentropy', metrics=['acc'])\n",
    "test_loss, test_acc = model1.evaluate(test_generator)\n",
    "print('normal trained model with normal test data acc:',test_acc)\n",
    "model2.compile(optimizer=RMSprop(learning_rate=0.001), loss='binary_crossentropy', metrics=['acc'])\n",
    "test_loss, test_acc = model2.evaluate(test_generator)\n",
    "print('with some style trained model with normal test data acc:',test_acc)\n",
    "model1.compile(optimizer=RMSprop(learning_rate=0.001), loss='binary_crossentropy', metrics=['acc'])\n",
    "test_loss, test_acc = model1.evaluate(test_generator_S1)\n",
    "print('normal trained model with some style test data acc:',test_acc)\n",
    "model2.compile(optimizer=RMSprop(learning_rate=0.001), loss='binary_crossentropy', metrics=['acc'])\n",
    "test_loss, test_acc = model2.evaluate(test_generator_S1)\n",
    "print('with some style trained model with some style test data acc:',test_acc)"
   ]
  },
  {
   "cell_type": "code",
   "execution_count": 16,
   "metadata": {},
   "outputs": [
    {
     "name": "stdout",
     "output_type": "stream",
     "text": [
      "........"
     ]
    }
   ],
   "source": [
    "x_test = []\n",
    "y_test = []\n",
    "for i in range(8):\n",
    "    a , b = test_generator.next()\n",
    "    x_test = [*x_test,*a]\n",
    "    y_test =  [*y_test,*b]\n",
    "    print('.',end='')\n",
    "x_test = np.array(x_test)\n",
    "y_pred1 = model1.predict(x_test)\n",
    "y_pred2 = model2.predict(x_test)"
   ]
  },
  {
   "cell_type": "code",
   "execution_count": 19,
   "metadata": {},
   "outputs": [
    {
     "data": {
      "image/png": "[encoded data removed]",
      "text/plain": [
       "<Figure size 864x864 with 2 Axes>"
      ]
     },
     "metadata": {
      "needs_background": "light"
     },
     "output_type": "display_data"
    }
   ],
   "source": [
    "plt.subplot(211)\n",
    "plt.plot(save1['acc'])\n",
    "plt.plot(save2['acc'])\n",
    "plt.title('model accuracy')\n",
    "plt.ylabel('accuracy')\n",
    "plt.xlabel('epoch')\n",
    "plt.legend(['normal', 'style'], loc='upper left')\n",
    "plt.subplot(212)\n",
    "plt.plot(save1['val_acc'])\n",
    "plt.plot(save2['val_acc'])\n",
    "plt.title('model val_accuracy')\n",
    "plt.ylabel('accuracy')\n",
    "plt.xlabel('epoch')\n",
    "plt.legend(['normal', 'style'], loc='upper left')\n",
    "plt.show()"
   ]
  },
  {
   "cell_type": "code",
   "execution_count": 18,
   "metadata": {},
   "outputs": [
    {
     "data": {
      "image/png": "[encoded data removed]",
      "text/plain": [
       "<Figure size 864x864 with 1 Axes>"
      ]
     },
     "metadata": {
      "needs_background": "light"
     },
     "output_type": "display_data"
    }
   ],
   "source": [
    "fpr, tpr, thresholds = roc_curve(y_test, y_pred1, pos_label=1)\n",
    "plt.plot(fpr,tpr)\n",
    "plt.ylabel('True Positive Rate')\n",
    "plt.xlabel('False Positive Rate')\n",
    "fpr, tpr, thresholds = roc_curve(y_test, y_pred2, pos_label=1)\n",
    "plt.plot(fpr,tpr)\n",
    "plt.legend(['normal', 'style'], loc='upper left')\n",
    "plt.show()"
   ]
  }
 ],
 "metadata": {
  "accelerator": "GPU",
  "colab": {
   "collapsed_sections": [],
   "name": "Lab6-Cats-v-Dogs.ipynb",
   "provenance": []
  },
  "kernelspec": {
   "display_name": "Python 3 (ipykernel)",
   "language": "python",
   "name": "python3"
  },
  "language_info": {
   "codemirror_mode": {
    "name": "ipython",
    "version": 3
   },
   "file_extension": ".py",
   "mimetype": "text/x-python",
   "name": "python",
   "nbconvert_exporter": "python",
   "pygments_lexer": "ipython3",
   "version": "3.9.7"
  }
 },
 "nbformat": 4,
 "nbformat_minor": 4
}
